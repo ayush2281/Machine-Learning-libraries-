{
  "nbformat": 4,
  "nbformat_minor": 0,
  "metadata": {
    "colab": {
      "provenance": [],
      "authorship_tag": "ABX9TyMPejEBXrsEt3+lwCS5d6q2",
      "include_colab_link": true
    },
    "kernelspec": {
      "name": "python3",
      "display_name": "Python 3"
    },
    "language_info": {
      "name": "python"
    }
  },
  "cells": [
    {
      "cell_type": "markdown",
      "metadata": {
        "id": "view-in-github",
        "colab_type": "text"
      },
      "source": [
        "<a href=\"https://colab.research.google.com/github/ayush2281/Machine-Learning-libraries-/blob/main/Python_Basic.ipynb\" target=\"_parent\"><img src=\"https://colab.research.google.com/assets/colab-badge.svg\" alt=\"Open In Colab\"/></a>"
      ]
    },
    {
      "cell_type": "markdown",
      "source": [
        " **Dynamic array**\n",
        "\n",
        "1.  create list [D]\n",
        "\n",
        "2.   len\n",
        "\n",
        "3.   append\n",
        "4.   print\n",
        "\n",
        "5.   indexing\n",
        "\n",
        "6.   pop\n",
        "\n",
        "7.   clear\n",
        "8.   find\n",
        "\n",
        "9.   insert\n",
        "\n",
        "10.   delete\n",
        "\n",
        "11.   remove\n",
        "\n",
        "\n",
        "sort/min/max/sum extend\n",
        "\n"
      ],
      "metadata": {
        "id": "0sqJlaiS9AuE"
      }
    },
    {
      "cell_type": "code",
      "source": [
        "import ctype"
      ],
      "metadata": {
        "id": "F1upy4Q62tW4"
      },
      "execution_count": null,
      "outputs": []
    },
    {
      "cell_type": "code",
      "source": [
        "!pip install ctype"
      ],
      "metadata": {
        "colab": {
          "base_uri": "https://localhost:8080/"
        },
        "id": "9-Yh48Yzrs-w",
        "outputId": "ea89cd02-5727-4f15-b26c-65b55de0e589"
      },
      "execution_count": null,
      "outputs": [
        {
          "output_type": "stream",
          "name": "stdout",
          "text": [
            "Requirement already satisfied: ctype in /usr/local/lib/python3.10/dist-packages (7.4.2)\n"
          ]
        }
      ]
    },
    {
      "cell_type": "code",
      "source": [
        "class MeraList:\n",
        "  def __init__(self): # Constructor\n",
        "    self.size  = 1\n",
        "    self.n = 0\n",
        "    # create a C type array with sizde = self.size\n",
        "    self.A = self.__make_array(self.size)\n",
        "  def __len__(self):\n",
        "    return self.n\n",
        "\n",
        "\n",
        "  def __str__(self):\n",
        "    # [1,2,3]\n",
        "    result = ''\n",
        "    for i in range(self.n):\n",
        "     result = result + str(self.A[i]) + ','\n",
        "\n",
        "    return '['+ result[:-1] + ']'\n",
        "\n",
        "   # index\n",
        "  def __getitem__(self,index):\n",
        "    if 0<= index < self.n:\n",
        "      return self.A[index]\n",
        "    else:\n",
        "      return 'IndexError - INndex out of range'\n",
        "\n",
        "    #append\n",
        "  def append(self,item):\n",
        "    if self.n == self.size:\n",
        "      # resize\n",
        "      self.__resize(self.size*2)\n",
        "      # append\n",
        "    self.A[self.n] = item\n",
        "    self.n = self.n+1\n",
        "\n",
        "    #pop\n",
        "  def pop(self):\n",
        "    if self.n == 0:\n",
        "      return 'empty list'\n",
        "\n",
        "    print(self.A[self.n-1])\n",
        "    self.n = self.n-1\n",
        "\n",
        "  # clear\n",
        "  def clear(self):\n",
        "    self.n = 0\n",
        "    self.size = 1\n",
        "\n",
        "  # find\n",
        "\n",
        "  def find(self,item):\n",
        "    for i in range(self.n):\n",
        "      if self.A[i] == item:\n",
        "        return i\n",
        "\n",
        "\n",
        "    return 'Value error not in list'\n",
        "\n",
        "  # insert\n",
        "\n",
        "  def insert(self,pos,item):\n",
        "    if self.n == self.size:\n",
        "      self.__resize(self.size*2)\n",
        "\n",
        "    for i in range(self.n,pos,-1):\n",
        "      self.A[i] = self.A[i-1]\n",
        "\n",
        "    self.A[pos] = item\n",
        "    self.n = self.n+1\n",
        "\n",
        "   # delete\n",
        "  def __delitem__(self,pos):\n",
        "    if 0<= pos < self.n:\n",
        "      for i in range(pos,self.n-1):\n",
        "        self.A[i] = self.A[i+1]\n",
        "\n",
        "      self.n = self.n-1\n",
        "\n",
        "   # remove\n",
        "  def remove(self,item):\n",
        "    pos = self.find(item)\n",
        "\n",
        "    if type(pos) == 0:\n",
        "      #delete\n",
        "      self.__delitem__(pos)\n",
        "\n",
        "    else:\n",
        "      return pos\n",
        "\n",
        "\n",
        "\n",
        "\n",
        "  def __resize(self,new_capacity):\n",
        "    # create new array with new capoacity\n",
        "    B = self.__make_array(new_capacity)\n",
        "    self.size = new_capacity\n",
        "    # copy the content of A to B\n",
        "\n",
        "    for i in range(self.n):\n",
        "      B[i] = self.A[i]\n",
        "\n",
        "    # resassign A\n",
        "\n",
        "    self.A = B\n",
        "\n",
        "\n",
        "\n",
        "  def __make_array(self,capacity):\n",
        "       # creates a C type array(static,referential) with size capacity\n",
        "        return (capacity*ctype.py_object)()\n"
      ],
      "metadata": {
        "id": "-w7WCVAF22eZ"
      },
      "execution_count": null,
      "outputs": []
    },
    {
      "cell_type": "code",
      "source": [
        "L = MeraList()\n"
      ],
      "metadata": {
        "id": "bclCbpmz8ZTS"
      },
      "execution_count": null,
      "outputs": []
    },
    {
      "cell_type": "code",
      "source": [
        "L.append('hello')\n",
        "L.append(2.2)\n",
        "L.append(19)\n",
        "L.append(100)\n",
        "L.append(45)\n"
      ],
      "metadata": {
        "id": "Audw_I398nSd"
      },
      "execution_count": null,
      "outputs": []
    },
    {
      "cell_type": "code",
      "source": [
        "len(L)"
      ],
      "metadata": {
        "colab": {
          "base_uri": "https://localhost:8080/"
        },
        "id": "urRb6okI8t0G",
        "outputId": "0fde00e0-58be-47f3-be70-176143f38e02"
      },
      "execution_count": null,
      "outputs": [
        {
          "output_type": "execute_result",
          "data": {
            "text/plain": [
              "5"
            ]
          },
          "metadata": {},
          "execution_count": 126
        }
      ]
    },
    {
      "cell_type": "code",
      "source": [
        "\n",
        "print(L)"
      ],
      "metadata": {
        "id": "fyHEoNjQ-qzN",
        "colab": {
          "base_uri": "https://localhost:8080/"
        },
        "outputId": "29a00cfe-39ea-4db9-94be-84f86fd05b05"
      },
      "execution_count": null,
      "outputs": [
        {
          "output_type": "stream",
          "name": "stdout",
          "text": [
            "[hello,2.2,19,100,45]\n"
          ]
        }
      ]
    },
    {
      "cell_type": "code",
      "source": [
        "L[2]"
      ],
      "metadata": {
        "colab": {
          "base_uri": "https://localhost:8080/"
        },
        "id": "aBgv9HZmQpAm",
        "outputId": "001130f8-0bce-409b-d0df-a0bb9b0d6bc4"
      },
      "execution_count": null,
      "outputs": [
        {
          "output_type": "execute_result",
          "data": {
            "text/plain": [
              "19"
            ]
          },
          "metadata": {},
          "execution_count": 128
        }
      ]
    },
    {
      "cell_type": "code",
      "source": [
        "L.pop()"
      ],
      "metadata": {
        "colab": {
          "base_uri": "https://localhost:8080/"
        },
        "id": "pq3TRX_MVYB9",
        "outputId": "3f9bd7e3-ad4f-4cf1-d726-ed65b925d35a"
      },
      "execution_count": null,
      "outputs": [
        {
          "output_type": "stream",
          "name": "stdout",
          "text": [
            "45\n"
          ]
        }
      ]
    },
    {
      "cell_type": "code",
      "source": [
        "L.pop()"
      ],
      "metadata": {
        "colab": {
          "base_uri": "https://localhost:8080/"
        },
        "id": "qZjLNQtPVZsY",
        "outputId": "b518af40-6a37-4ebf-9d6d-0b1304d13ecb"
      },
      "execution_count": null,
      "outputs": [
        {
          "output_type": "stream",
          "name": "stdout",
          "text": [
            "100\n"
          ]
        }
      ]
    },
    {
      "cell_type": "code",
      "source": [
        "L.pop()"
      ],
      "metadata": {
        "colab": {
          "base_uri": "https://localhost:8080/"
        },
        "id": "FHnGUhDXVdg0",
        "outputId": "71788bf9-5da3-4336-f2f8-c13e183f18b2"
      },
      "execution_count": null,
      "outputs": [
        {
          "output_type": "stream",
          "name": "stdout",
          "text": [
            "19\n"
          ]
        }
      ]
    },
    {
      "cell_type": "code",
      "source": [
        "L.pop()"
      ],
      "metadata": {
        "colab": {
          "base_uri": "https://localhost:8080/"
        },
        "id": "1jgFQF_YVjy6",
        "outputId": "00819fa2-ced1-47df-dec2-ab924bfc98f4"
      },
      "execution_count": null,
      "outputs": [
        {
          "output_type": "stream",
          "name": "stdout",
          "text": [
            "2.2\n"
          ]
        }
      ]
    },
    {
      "cell_type": "code",
      "source": [
        "L.pop()"
      ],
      "metadata": {
        "colab": {
          "base_uri": "https://localhost:8080/"
        },
        "id": "3kx1VPE7VlRd",
        "outputId": "61b0e3bc-d500-4432-9690-d51c7a19bf0a"
      },
      "execution_count": null,
      "outputs": [
        {
          "output_type": "stream",
          "name": "stdout",
          "text": [
            "hello\n"
          ]
        }
      ]
    },
    {
      "cell_type": "code",
      "source": [
        "L.pop()"
      ],
      "metadata": {
        "colab": {
          "base_uri": "https://localhost:8080/",
          "height": 36
        },
        "id": "ihc0BNa0Vmm7",
        "outputId": "c7b535f5-e835-48aa-8cbe-3f4e42811f9a"
      },
      "execution_count": null,
      "outputs": [
        {
          "output_type": "execute_result",
          "data": {
            "text/plain": [
              "'empty list'"
            ],
            "application/vnd.google.colaboratory.intrinsic+json": {
              "type": "string"
            }
          },
          "metadata": {},
          "execution_count": 134
        }
      ]
    },
    {
      "cell_type": "code",
      "source": [
        "L.clear()"
      ],
      "metadata": {
        "id": "ztIeuUY7VqXH"
      },
      "execution_count": null,
      "outputs": []
    },
    {
      "cell_type": "code",
      "source": [
        "print(L)"
      ],
      "metadata": {
        "colab": {
          "base_uri": "https://localhost:8080/"
        },
        "id": "ztrz4fYlWC5-",
        "outputId": "21cfea89-33d1-4035-cec8-fe4cc1ff79f4"
      },
      "execution_count": null,
      "outputs": [
        {
          "output_type": "stream",
          "name": "stdout",
          "text": [
            "[]\n"
          ]
        }
      ]
    },
    {
      "cell_type": "code",
      "source": [
        "L.find(2.2)"
      ],
      "metadata": {
        "id": "Zlv0Bw0eWFfo",
        "colab": {
          "base_uri": "https://localhost:8080/",
          "height": 36
        },
        "outputId": "f3bef5ee-07e8-436f-9bae-12e9c820c37b"
      },
      "execution_count": null,
      "outputs": [
        {
          "output_type": "execute_result",
          "data": {
            "text/plain": [
              "'Value error not in list'"
            ],
            "application/vnd.google.colaboratory.intrinsic+json": {
              "type": "string"
            }
          },
          "metadata": {},
          "execution_count": 137
        }
      ]
    },
    {
      "cell_type": "code",
      "source": [
        "L.find('hello')"
      ],
      "metadata": {
        "colab": {
          "base_uri": "https://localhost:8080/",
          "height": 36
        },
        "id": "YAeyUvVctiUH",
        "outputId": "6ae2c069-e72e-46ca-e010-0d9d40eb32b1"
      },
      "execution_count": null,
      "outputs": [
        {
          "output_type": "execute_result",
          "data": {
            "text/plain": [
              "'Value error not in list'"
            ],
            "application/vnd.google.colaboratory.intrinsic+json": {
              "type": "string"
            }
          },
          "metadata": {},
          "execution_count": 138
        }
      ]
    },
    {
      "cell_type": "code",
      "source": [
        "L.insert(0,5)"
      ],
      "metadata": {
        "id": "qLacpvjcxHNp"
      },
      "execution_count": null,
      "outputs": []
    },
    {
      "cell_type": "code",
      "source": [
        "print(L)"
      ],
      "metadata": {
        "colab": {
          "base_uri": "https://localhost:8080/"
        },
        "id": "nJ4kTr-qxNiS",
        "outputId": "01c55014-4587-4a09-8ce5-9ac9c674ebd8"
      },
      "execution_count": null,
      "outputs": [
        {
          "output_type": "stream",
          "name": "stdout",
          "text": [
            "[5]\n"
          ]
        }
      ]
    },
    {
      "cell_type": "code",
      "source": [
        "L.insert(2,'World')"
      ],
      "metadata": {
        "colab": {
          "base_uri": "https://localhost:8080/",
          "height": 263
        },
        "id": "hxQSJOd3xi9l",
        "outputId": "61b69637-add9-4eab-a12d-e1674f86a56f"
      },
      "execution_count": null,
      "outputs": [
        {
          "output_type": "error",
          "ename": "IndexError",
          "evalue": "invalid index",
          "traceback": [
            "\u001b[0;31m---------------------------------------------------------------------------\u001b[0m",
            "\u001b[0;31mIndexError\u001b[0m                                Traceback (most recent call last)",
            "\u001b[0;32m<ipython-input-142-b147fd172dc8>\u001b[0m in \u001b[0;36m<cell line: 1>\u001b[0;34m()\u001b[0m\n\u001b[0;32m----> 1\u001b[0;31m \u001b[0mL\u001b[0m\u001b[0;34m.\u001b[0m\u001b[0minsert\u001b[0m\u001b[0;34m(\u001b[0m\u001b[0;36m2\u001b[0m\u001b[0;34m,\u001b[0m\u001b[0;34m'World'\u001b[0m\u001b[0;34m)\u001b[0m\u001b[0;34m\u001b[0m\u001b[0;34m\u001b[0m\u001b[0m\n\u001b[0m",
            "\u001b[0;32m<ipython-input-123-9ebf189a5de4>\u001b[0m in \u001b[0;36minsert\u001b[0;34m(self, pos, item)\u001b[0m\n\u001b[1;32m     65\u001b[0m       \u001b[0mself\u001b[0m\u001b[0;34m.\u001b[0m\u001b[0mA\u001b[0m\u001b[0;34m[\u001b[0m\u001b[0mi\u001b[0m\u001b[0;34m]\u001b[0m \u001b[0;34m=\u001b[0m \u001b[0mself\u001b[0m\u001b[0;34m.\u001b[0m\u001b[0mA\u001b[0m\u001b[0;34m[\u001b[0m\u001b[0mi\u001b[0m\u001b[0;34m-\u001b[0m\u001b[0;36m1\u001b[0m\u001b[0;34m]\u001b[0m\u001b[0;34m\u001b[0m\u001b[0;34m\u001b[0m\u001b[0m\n\u001b[1;32m     66\u001b[0m \u001b[0;34m\u001b[0m\u001b[0m\n\u001b[0;32m---> 67\u001b[0;31m     \u001b[0mself\u001b[0m\u001b[0;34m.\u001b[0m\u001b[0mA\u001b[0m\u001b[0;34m[\u001b[0m\u001b[0mpos\u001b[0m\u001b[0;34m]\u001b[0m \u001b[0;34m=\u001b[0m \u001b[0mitem\u001b[0m\u001b[0;34m\u001b[0m\u001b[0;34m\u001b[0m\u001b[0m\n\u001b[0m\u001b[1;32m     68\u001b[0m     \u001b[0mself\u001b[0m\u001b[0;34m.\u001b[0m\u001b[0mn\u001b[0m \u001b[0;34m=\u001b[0m \u001b[0mself\u001b[0m\u001b[0;34m.\u001b[0m\u001b[0mn\u001b[0m\u001b[0;34m+\u001b[0m\u001b[0;36m1\u001b[0m\u001b[0;34m\u001b[0m\u001b[0;34m\u001b[0m\u001b[0m\n\u001b[1;32m     69\u001b[0m \u001b[0;34m\u001b[0m\u001b[0m\n",
            "\u001b[0;31mIndexError\u001b[0m: invalid index"
          ]
        }
      ]
    },
    {
      "cell_type": "code",
      "source": [
        "print(L)"
      ],
      "metadata": {
        "colab": {
          "base_uri": "https://localhost:8080/"
        },
        "id": "ofnUAEuaxpSn",
        "outputId": "5aff78f3-69d2-4a6e-dd90-319c9a96d69b"
      },
      "execution_count": null,
      "outputs": [
        {
          "output_type": "stream",
          "name": "stdout",
          "text": [
            "[5]\n"
          ]
        }
      ]
    },
    {
      "cell_type": "code",
      "source": [
        "del L[2000]\n"
      ],
      "metadata": {
        "id": "9u8aXgHFyfrJ"
      },
      "execution_count": null,
      "outputs": []
    },
    {
      "cell_type": "code",
      "source": [
        "print(L)\n"
      ],
      "metadata": {
        "colab": {
          "base_uri": "https://localhost:8080/"
        },
        "id": "4pehrauJz4lT",
        "outputId": "54f196ec-e803-4177-d2ad-b6d6a9857526"
      },
      "execution_count": null,
      "outputs": [
        {
          "output_type": "stream",
          "name": "stdout",
          "text": [
            "[hello,2.2,19,100,45]\n"
          ]
        }
      ]
    },
    {
      "cell_type": "code",
      "source": [
        "L.remove('hello')"
      ],
      "metadata": {
        "colab": {
          "base_uri": "https://localhost:8080/"
        },
        "id": "LPGDbkXm2jVF",
        "outputId": "3dba9039-0e31-49f3-8570-7cd1109c6bd7"
      },
      "execution_count": null,
      "outputs": [
        {
          "output_type": "execute_result",
          "data": {
            "text/plain": [
              "0"
            ]
          },
          "metadata": {},
          "execution_count": 191
        }
      ]
    },
    {
      "cell_type": "code",
      "source": [
        "print(L)"
      ],
      "metadata": {
        "colab": {
          "base_uri": "https://localhost:8080/"
        },
        "id": "tv1GqEYR31Pi",
        "outputId": "f0f9f65e-e7f7-4dd5-87b3-e8a093bba48b"
      },
      "execution_count": null,
      "outputs": [
        {
          "output_type": "stream",
          "name": "stdout",
          "text": [
            "[hello,2.2,19,100,45]\n"
          ]
        }
      ]
    },
    {
      "cell_type": "code",
      "source": [],
      "metadata": {
        "id": "SxxZX-eK32Ll"
      },
      "execution_count": null,
      "outputs": []
    }
  ]
}