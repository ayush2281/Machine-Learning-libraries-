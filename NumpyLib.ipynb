{
  "nbformat": 4,
  "nbformat_minor": 0,
  "metadata": {
    "colab": {
      "provenance": [],
      "authorship_tag": "ABX9TyPgioIuM3Hz3629y3oFfAyW",
      "include_colab_link": true
    },
    "kernelspec": {
      "name": "python3",
      "display_name": "Python 3"
    },
    "language_info": {
      "name": "python"
    }
  },
  "cells": [
    {
      "cell_type": "markdown",
      "metadata": {
        "id": "view-in-github",
        "colab_type": "text"
      },
      "source": [
        "<a href=\"https://colab.research.google.com/github/ayush2281/Machine-Learning-libraries-/blob/main/NumpyLib.ipynb\" target=\"_parent\"><img src=\"https://colab.research.google.com/assets/colab-badge.svg\" alt=\"Open In Colab\"/></a>"
      ]
    },
    {
      "cell_type": "markdown",
      "source": [
        "# Nummpy- *Numerical Python*\n",
        "\n",
        "Advantages of Numpy Arrays:\n",
        "\n",
        "\n",
        "1.  Allow severals Mathmetical operations\n",
        "2.  Faster Operation\n",
        "\n"
      ],
      "metadata": {
        "id": "7XtGXn50Gk0P"
      }
    },
    {
      "cell_type": "code",
      "source": [
        "import numpy as np"
      ],
      "metadata": {
        "id": "tdwsC5nhGkbx"
      },
      "execution_count": null,
      "outputs": []
    },
    {
      "cell_type": "markdown",
      "source": [
        "List vs Numpy Time taken"
      ],
      "metadata": {
        "id": "PwwjW8-3Iy15"
      }
    },
    {
      "cell_type": "code",
      "source": [
        "from time import process_time"
      ],
      "metadata": {
        "id": "VRn243OtIdH3"
      },
      "execution_count": null,
      "outputs": []
    },
    {
      "cell_type": "markdown",
      "source": [
        "Time taken by a list"
      ],
      "metadata": {
        "id": "JROU1Gg6I-rQ"
      }
    },
    {
      "cell_type": "code",
      "source": [
        "import time\n",
        "\n",
        "python_list = [i for i in range(10000)]\n",
        "\n",
        "start_time = time.process_time()\n",
        "\n",
        "python_list = [i+5 for i in python_list]\n",
        "\n",
        "end_time = time.process_time()\n",
        "\n",
        "print(end_time - start_time)"
      ],
      "metadata": {
        "colab": {
          "base_uri": "https://localhost:8080/"
        },
        "id": "2PjqqfAzI9Ph",
        "outputId": "57b87a8d-2891-4e7a-8302-29d8ad67b1f4"
      },
      "execution_count": null,
      "outputs": [
        {
          "output_type": "stream",
          "name": "stdout",
          "text": [
            "0.0010705710000000757\n"
          ]
        }
      ]
    },
    {
      "cell_type": "markdown",
      "source": [
        "Time taken by Numpy"
      ],
      "metadata": {
        "id": "x9_imdOPLEU2"
      }
    },
    {
      "cell_type": "code",
      "source": [
        "np_array = np.array([i for i in range(10000)])\n",
        "\n",
        "start_time = time.process_time()\n",
        "\n",
        "\n",
        "np_array += 5    #np_array = np_array+5\n",
        "\n",
        "\n",
        "end_time = time.process_time()\n",
        "print(end_time - start_time)\n",
        "\n"
      ],
      "metadata": {
        "colab": {
          "base_uri": "https://localhost:8080/"
        },
        "id": "0Q8DDZ_SLDM_",
        "outputId": "f4e25de9-bd90-4ba1-f5ce-68b9f0423a9d"
      },
      "execution_count": null,
      "outputs": [
        {
          "output_type": "stream",
          "name": "stdout",
          "text": [
            "0.00018536099999977296\n"
          ]
        }
      ]
    },
    {
      "cell_type": "markdown",
      "source": [
        "Numpy Arrays"
      ],
      "metadata": {
        "id": "acOhX1OZMEXE"
      }
    },
    {
      "cell_type": "code",
      "source": [
        "# list\n",
        "list1 = [1,9,8,4]\n",
        "print(list1)\n",
        "type(list1)"
      ],
      "metadata": {
        "colab": {
          "base_uri": "https://localhost:8080/"
        },
        "id": "cb56BHSTL5lE",
        "outputId": "077e276a-5536-4088-b730-38fb9ea8411c"
      },
      "execution_count": null,
      "outputs": [
        {
          "output_type": "stream",
          "name": "stdout",
          "text": [
            "[1, 9, 8, 4]\n"
          ]
        },
        {
          "output_type": "execute_result",
          "data": {
            "text/plain": [
              "list"
            ]
          },
          "metadata": {},
          "execution_count": 21
        }
      ]
    },
    {
      "cell_type": "code",
      "source": [
        "np_array = np.array([1,9,8,4])\n",
        "print(np_array)\n",
        "type(np_array)"
      ],
      "metadata": {
        "colab": {
          "base_uri": "https://localhost:8080/"
        },
        "id": "II3rhJQMMYKa",
        "outputId": "93c981aa-c5e6-4577-c95d-c8c5b1b2fa06"
      },
      "execution_count": null,
      "outputs": [
        {
          "output_type": "stream",
          "name": "stdout",
          "text": [
            "[1 9 8 4]\n"
          ]
        },
        {
          "output_type": "execute_result",
          "data": {
            "text/plain": [
              "numpy.ndarray"
            ]
          },
          "metadata": {},
          "execution_count": 22
        }
      ]
    },
    {
      "cell_type": "code",
      "source": [
        "# creating 1 dimention array\n",
        "a = np.array([5,65,2,5])\n",
        "print(a)"
      ],
      "metadata": {
        "colab": {
          "base_uri": "https://localhost:8080/"
        },
        "id": "6MnikpApM2nH",
        "outputId": "915a9c72-63ce-419d-ab47-352aea96c44a"
      },
      "execution_count": null,
      "outputs": [
        {
          "output_type": "stream",
          "name": "stdout",
          "text": [
            "[ 5 65  2  5]\n"
          ]
        }
      ]
    },
    {
      "cell_type": "code",
      "source": [
        "a.shape"
      ],
      "metadata": {
        "colab": {
          "base_uri": "https://localhost:8080/"
        },
        "id": "kHcGn304NFJw",
        "outputId": "05c985a4-8ad1-48db-d920-627b60c8a5e0"
      },
      "execution_count": null,
      "outputs": [
        {
          "output_type": "execute_result",
          "data": {
            "text/plain": [
              "(4,)"
            ]
          },
          "metadata": {},
          "execution_count": 25
        }
      ]
    },
    {
      "cell_type": "code",
      "source": [
        "b = np.array([(1,6,8,10),(7,8,2,3)])\n",
        "print(b)"
      ],
      "metadata": {
        "colab": {
          "base_uri": "https://localhost:8080/"
        },
        "id": "yUgHhu7ONJ2c",
        "outputId": "1769445d-a266-43c8-c3b4-28a03adbbca4"
      },
      "execution_count": null,
      "outputs": [
        {
          "output_type": "stream",
          "name": "stdout",
          "text": [
            "[[ 1  6  8 10]\n",
            " [ 7  8  2  3]]\n"
          ]
        }
      ]
    },
    {
      "cell_type": "code",
      "source": [
        "b.shape"
      ],
      "metadata": {
        "colab": {
          "base_uri": "https://localhost:8080/"
        },
        "id": "u996tZZ5Ncah",
        "outputId": "b7374333-4874-47a6-d2cc-955603198e4a"
      },
      "execution_count": null,
      "outputs": [
        {
          "output_type": "execute_result",
          "data": {
            "text/plain": [
              "(2, 4)"
            ]
          },
          "metadata": {},
          "execution_count": 29
        }
      ]
    },
    {
      "cell_type": "code",
      "source": [
        "c = np.array([(54,5,8,9,3,0),(9,9,5,2,5,0),(8,8,5,2,4,0)])\n",
        "print(c)"
      ],
      "metadata": {
        "colab": {
          "base_uri": "https://localhost:8080/"
        },
        "id": "UVH9GhIPNlRW",
        "outputId": "2a050790-b89b-4c68-f89a-dc37291b92d0"
      },
      "execution_count": null,
      "outputs": [
        {
          "output_type": "stream",
          "name": "stdout",
          "text": [
            "[[54  5  8  9  3  0]\n",
            " [ 9  9  5  2  5  0]\n",
            " [ 8  8  5  2  4  0]]\n"
          ]
        }
      ]
    },
    {
      "cell_type": "code",
      "source": [
        "c.shape"
      ],
      "metadata": {
        "colab": {
          "base_uri": "https://localhost:8080/"
        },
        "id": "AJuZo97_N8ls",
        "outputId": "10f724b7-78e2-406f-ab4c-3991b146c3cd"
      },
      "execution_count": null,
      "outputs": [
        {
          "output_type": "execute_result",
          "data": {
            "text/plain": [
              "(3, 6)"
            ]
          },
          "metadata": {},
          "execution_count": 36
        }
      ]
    },
    {
      "cell_type": "code",
      "source": [
        "d = np.array([(1,6,9,8),(8,9,4,2)],dtype=float)\n",
        "print(d)"
      ],
      "metadata": {
        "colab": {
          "base_uri": "https://localhost:8080/"
        },
        "id": "1V2t3Y2vN_Qh",
        "outputId": "fa65ee6d-072c-4250-c27f-ece4eedf55db"
      },
      "execution_count": null,
      "outputs": [
        {
          "output_type": "stream",
          "name": "stdout",
          "text": [
            "[[1. 6. 9. 8.]\n",
            " [8. 9. 4. 2.]]\n"
          ]
        }
      ]
    },
    {
      "cell_type": "markdown",
      "source": [
        "lnitial Place holder in a numpy arrays"
      ],
      "metadata": {
        "id": "rzAD76_YYdq7"
      }
    },
    {
      "cell_type": "code",
      "source": [
        "# create numpy arrays of Zeros\n",
        "x = np.zeros((4,5))\n",
        "print(x)"
      ],
      "metadata": {
        "id": "cpkU4s5FOjkq",
        "colab": {
          "base_uri": "https://localhost:8080/"
        },
        "outputId": "80fb49ac-dfad-40b4-ad1a-49a0174ada49"
      },
      "execution_count": null,
      "outputs": [
        {
          "output_type": "stream",
          "name": "stdout",
          "text": [
            "[[0. 0. 0. 0. 0.]\n",
            " [0. 0. 0. 0. 0.]\n",
            " [0. 0. 0. 0. 0.]\n",
            " [0. 0. 0. 0. 0.]]\n"
          ]
        }
      ]
    },
    {
      "cell_type": "code",
      "source": [
        "#create a numpy array of ones\n",
        "y = np.ones((3,3))\n",
        "print(y)"
      ],
      "metadata": {
        "colab": {
          "base_uri": "https://localhost:8080/"
        },
        "id": "wtGB11Jvsvep",
        "outputId": "ab491b25-1f65-45cb-dc1c-9c0dade09c7b"
      },
      "execution_count": null,
      "outputs": [
        {
          "output_type": "stream",
          "name": "stdout",
          "text": [
            "[[1. 1. 1.]\n",
            " [1. 1. 1.]\n",
            " [1. 1. 1.]]\n"
          ]
        }
      ]
    },
    {
      "cell_type": "code",
      "source": [
        "# array of a particular value\n",
        "z = np.full((3,4),5)\n",
        "print(z)"
      ],
      "metadata": {
        "colab": {
          "base_uri": "https://localhost:8080/"
        },
        "id": "3X3SJKpftMuH",
        "outputId": "eebbb009-3305-46d9-9be5-fcc492e9e94f"
      },
      "execution_count": null,
      "outputs": [
        {
          "output_type": "stream",
          "name": "stdout",
          "text": [
            "[[5 5 5 5]\n",
            " [5 5 5 5]\n",
            " [5 5 5 5]]\n"
          ]
        }
      ]
    },
    {
      "cell_type": "code",
      "source": [
        "# create a identity matrix\n",
        "a = np.eye(3)\n",
        "print(a)"
      ],
      "metadata": {
        "colab": {
          "base_uri": "https://localhost:8080/"
        },
        "id": "wdC1ke7fvdUU",
        "outputId": "65a7eb46-4d32-4258-be6b-b2ff35c8aa6e"
      },
      "execution_count": null,
      "outputs": [
        {
          "output_type": "stream",
          "name": "stdout",
          "text": [
            "[[1. 0. 0.]\n",
            " [0. 1. 0.]\n",
            " [0. 0. 1.]]\n"
          ]
        }
      ]
    },
    {
      "cell_type": "code",
      "source": [
        "# create a numpy array with random values\n",
        "b = np.random.random((3,4))\n",
        "print(b)\n"
      ],
      "metadata": {
        "colab": {
          "base_uri": "https://localhost:8080/"
        },
        "id": "uYQOA35DvvrW",
        "outputId": "0300aaed-fee8-40e5-b1c5-63193213a3c4"
      },
      "execution_count": null,
      "outputs": [
        {
          "output_type": "stream",
          "name": "stdout",
          "text": [
            "[[0.44991496 0.58122665 0.52889058 0.12108283]\n",
            " [0.34814164 0.41366899 0.76214021 0.53893291]\n",
            " [0.91028608 0.06753018 0.38598478 0.66031962]]\n"
          ]
        }
      ]
    },
    {
      "source": [
        "# random integer values arrays within a specific range\n",
        "c = np.random.randint(10, 100, (3, 5))\n",
        "print(c)"
      ],
      "cell_type": "code",
      "metadata": {
        "colab": {
          "base_uri": "https://localhost:8080/"
        },
        "id": "jEzQFPTXyS-Y",
        "outputId": "89d8d039-c974-46ce-cbfa-8b9208b0a93f"
      },
      "execution_count": null,
      "outputs": [
        {
          "output_type": "stream",
          "name": "stdout",
          "text": [
            "[[97 84 13 83 45]\n",
            " [21 74 37 18 54]\n",
            " [33 19 55 83 60]]\n"
          ]
        }
      ]
    },
    {
      "cell_type": "code",
      "source": [
        "# array of evenly spaced values --> specifying the number of values required\n",
        "d = np.linspace(10,30,6)\n",
        "print(d)"
      ],
      "metadata": {
        "colab": {
          "base_uri": "https://localhost:8080/"
        },
        "id": "KpGM2Ie5yays",
        "outputId": "4ecc787b-ba72-40fb-b8e3-ffe059e3886c"
      },
      "execution_count": null,
      "outputs": [
        {
          "output_type": "stream",
          "name": "stdout",
          "text": [
            "[10. 14. 18. 22. 26. 30.]\n"
          ]
        }
      ]
    },
    {
      "cell_type": "code",
      "source": [
        "# array of evenly spaced values --> specifying the step\n",
        "e = np.arange(10,30,5)\n",
        "print(e)"
      ],
      "metadata": {
        "colab": {
          "base_uri": "https://localhost:8080/"
        },
        "id": "yOUrC6MJy3IO",
        "outputId": "d5a1f7bf-f4b6-45d9-892b-82ddc374e858"
      },
      "execution_count": null,
      "outputs": [
        {
          "output_type": "stream",
          "name": "stdout",
          "text": [
            "[10 15 20 25]\n"
          ]
        }
      ]
    },
    {
      "cell_type": "code",
      "source": [
        "# convert a listn into numpy array\n",
        "list3 = [2,0,9,0,5,2,0]\n",
        "\n",
        "np_array = np.asarray(list3)\n",
        "print(np_array)\n",
        "type(np_array)\n"
      ],
      "metadata": {
        "colab": {
          "base_uri": "https://localhost:8080/"
        },
        "id": "sgk8Bdp5zLyC",
        "outputId": "51cbde8d-a47d-4ff0-fc1d-1c888d10a434"
      },
      "execution_count": null,
      "outputs": [
        {
          "output_type": "stream",
          "name": "stdout",
          "text": [
            "[2 0 9 0 5 2 0]\n"
          ]
        },
        {
          "output_type": "execute_result",
          "data": {
            "text/plain": [
              "numpy.ndarray"
            ]
          },
          "metadata": {},
          "execution_count": 48
        }
      ]
    },
    {
      "cell_type": "markdown",
      "source": [
        "Analysing numpy array"
      ],
      "metadata": {
        "id": "aYgYdcPa6b2F"
      }
    },
    {
      "cell_type": "code",
      "source": [
        "c = np.random.randint(10,90,(5,5))\n",
        "print(c)"
      ],
      "metadata": {
        "colab": {
          "base_uri": "https://localhost:8080/"
        },
        "id": "XNNN5rsS5xQI",
        "outputId": "8674ea0e-0fb6-48bf-9377-a2400f9dce3f"
      },
      "execution_count": null,
      "outputs": [
        {
          "output_type": "stream",
          "name": "stdout",
          "text": [
            "[[29 57 23 28 17]\n",
            " [55 89 65 79 60]\n",
            " [82 27 46 53 34]\n",
            " [38 35 59 15 47]\n",
            " [45 80 17 57 61]]\n"
          ]
        }
      ]
    },
    {
      "cell_type": "code",
      "source": [
        "# array dimension\n",
        "print(c.shape)"
      ],
      "metadata": {
        "colab": {
          "base_uri": "https://localhost:8080/"
        },
        "id": "y52tVhOr7UWY",
        "outputId": "6197afb2-ba9d-4666-8c0e-b8b75f4095b9"
      },
      "execution_count": null,
      "outputs": [
        {
          "output_type": "stream",
          "name": "stdout",
          "text": [
            "(5, 5)\n"
          ]
        }
      ]
    },
    {
      "cell_type": "code",
      "source": [
        "# number of dimensions\n",
        "print(c.ndim)"
      ],
      "metadata": {
        "colab": {
          "base_uri": "https://localhost:8080/"
        },
        "id": "gTlM0CBb7p_q",
        "outputId": "9f2a3086-2b3a-4131-98cd-d7e4c320422a"
      },
      "execution_count": null,
      "outputs": [
        {
          "output_type": "stream",
          "name": "stdout",
          "text": [
            "2\n"
          ]
        }
      ]
    },
    {
      "cell_type": "code",
      "source": [
        "# number of ele in the  array\n",
        "print(c.size)"
      ],
      "metadata": {
        "colab": {
          "base_uri": "https://localhost:8080/"
        },
        "id": "nFzOcnAF7ySf",
        "outputId": "1eb21f26-df79-49e0-de63-cd10fb0e3547"
      },
      "execution_count": null,
      "outputs": [
        {
          "output_type": "stream",
          "name": "stdout",
          "text": [
            "25\n"
          ]
        }
      ]
    },
    {
      "cell_type": "code",
      "source": [
        "# checking the data type of the values in the array\n",
        "print(c.dtype)"
      ],
      "metadata": {
        "colab": {
          "base_uri": "https://localhost:8080/"
        },
        "id": "6OJa8O4b8FG1",
        "outputId": "507285b0-3631-4f8c-f331-dab2516b509c"
      },
      "execution_count": null,
      "outputs": [
        {
          "output_type": "stream",
          "name": "stdout",
          "text": [
            "int64\n"
          ]
        }
      ]
    },
    {
      "cell_type": "markdown",
      "source": [
        "Mathmatical Operation on a numpy array or np array"
      ],
      "metadata": {
        "id": "foM86DCc8RVb"
      }
    },
    {
      "cell_type": "code",
      "source": [
        "list1 = [6,9,2,8,7]\n",
        "list2 = [9,5,7,1,4] # concatnate or join 2 list\n",
        "print(list1 + list2)"
      ],
      "metadata": {
        "colab": {
          "base_uri": "https://localhost:8080/"
        },
        "id": "vwpTszRM8Oam",
        "outputId": "2762167e-b215-43d1-f40c-0d83bb46cdf1"
      },
      "execution_count": null,
      "outputs": [
        {
          "output_type": "stream",
          "name": "stdout",
          "text": [
            "[6, 9, 2, 8, 7, 9, 5, 7, 1, 4]\n"
          ]
        }
      ]
    },
    {
      "cell_type": "code",
      "source": [
        "a = np.random.randint(0,10,(3,3))\n",
        "b = np.random.randint(10,20,(3,3))"
      ],
      "metadata": {
        "id": "9RxmI7Rm84AI"
      },
      "execution_count": null,
      "outputs": []
    },
    {
      "cell_type": "code",
      "source": [
        "print(a)\n",
        "print(b)\n",
        "print()\n",
        "\n",
        "print(a+b)\n"
      ],
      "metadata": {
        "colab": {
          "base_uri": "https://localhost:8080/"
        },
        "id": "xoXou3fC8ppz",
        "outputId": "4d30f007-2aa6-472b-aebf-ea426d968cdc"
      },
      "execution_count": null,
      "outputs": [
        {
          "output_type": "stream",
          "name": "stdout",
          "text": [
            "[[9 4 3]\n",
            " [9 7 1]\n",
            " [7 0 5]]\n",
            "[[11 19 15]\n",
            " [10 12 11]\n",
            " [19 15 11]]\n",
            "\n",
            "[[20 23 18]\n",
            " [19 19 12]\n",
            " [26 15 16]]\n"
          ]
        }
      ]
    },
    {
      "cell_type": "code",
      "source": [
        "print(a-b)\n",
        "print()\n",
        "print(a/b)\n",
        "print()\n",
        "print(a*b)"
      ],
      "metadata": {
        "colab": {
          "base_uri": "https://localhost:8080/"
        },
        "id": "Xhn9tVjD-FPE",
        "outputId": "d0301bca-4a2e-4fe4-ad71-e92b9f057f19"
      },
      "execution_count": null,
      "outputs": [
        {
          "output_type": "stream",
          "name": "stdout",
          "text": [
            "[[ -2 -15 -12]\n",
            " [ -1  -5 -10]\n",
            " [-12 -15  -6]]\n",
            "\n",
            "[[0.81818182 0.21052632 0.2       ]\n",
            " [0.9        0.58333333 0.09090909]\n",
            " [0.36842105 0.         0.45454545]]\n",
            "\n",
            "[[ 99  76  45]\n",
            " [ 90  84  11]\n",
            " [133   0  55]]\n"
          ]
        }
      ]
    },
    {
      "cell_type": "code",
      "source": [
        "a = np.random.randint(0,10,(3,3))\n",
        "b = np.random.randint(10,20,(3,3))"
      ],
      "metadata": {
        "id": "SRhkJtAa-ph1"
      },
      "execution_count": null,
      "outputs": []
    },
    {
      "cell_type": "code",
      "source": [
        "print(a)\n",
        "print(b)"
      ],
      "metadata": {
        "colab": {
          "base_uri": "https://localhost:8080/"
        },
        "id": "44sisieK-aQ4",
        "outputId": "d0bd0fff-160f-4285-f31c-8882d6c29ff5"
      },
      "execution_count": null,
      "outputs": [
        {
          "output_type": "stream",
          "name": "stdout",
          "text": [
            "[[ 0  9 12]\n",
            " [ 8  2  8]\n",
            " [ 6  5 13]]\n",
            "[[19 10 18]\n",
            " [19 12 18]\n",
            " [15 10 17]]\n"
          ]
        }
      ]
    },
    {
      "cell_type": "code",
      "source": [
        "print(np.add(a,b))\n",
        "print(np.subtract(a,b))\n",
        "print(np.multiply(a,b))\n",
        "print(np.divide(a,b))"
      ],
      "metadata": {
        "colab": {
          "base_uri": "https://localhost:8080/"
        },
        "id": "mvvoQnBY_LoL",
        "outputId": "d27098d4-addc-4048-825b-592b903f21b2"
      },
      "execution_count": null,
      "outputs": [
        {
          "output_type": "stream",
          "name": "stdout",
          "text": [
            "[[19 19 30]\n",
            " [27 14 26]\n",
            " [21 15 30]]\n",
            "[[-19  -1  -6]\n",
            " [-11 -10 -10]\n",
            " [ -9  -5  -4]]\n",
            "[[  0  90 216]\n",
            " [152  24 144]\n",
            " [ 90  50 221]]\n",
            "[[0.         0.9        0.66666667]\n",
            " [0.42105263 0.16666667 0.44444444]\n",
            " [0.4        0.5        0.76470588]]\n"
          ]
        }
      ]
    },
    {
      "cell_type": "markdown",
      "source": [
        "Array Manipulation"
      ],
      "metadata": {
        "id": "fEzGZl8u_yhf"
      }
    },
    {
      "cell_type": "code",
      "source": [
        "array = np.random.randint(0,10,(3,2))\n",
        "print(array)\n",
        "print()\n",
        "print(array.shape)"
      ],
      "metadata": {
        "colab": {
          "base_uri": "https://localhost:8080/"
        },
        "id": "7bL_NtqH_rnD",
        "outputId": "ff14b074-183d-4401-b0ef-250434804d93"
      },
      "execution_count": null,
      "outputs": [
        {
          "output_type": "stream",
          "name": "stdout",
          "text": [
            "[[3 5]\n",
            " [9 6]\n",
            " [7 2]]\n",
            "\n",
            "(3, 2)\n"
          ]
        }
      ]
    },
    {
      "cell_type": "code",
      "source": [
        "#Transpose of mat\n",
        "trans = np.transpose(array)\n",
        "print(trans)\n",
        "print(trans.shape)"
      ],
      "metadata": {
        "colab": {
          "base_uri": "https://localhost:8080/"
        },
        "id": "HSJdVed0ACf5",
        "outputId": "f8d6008a-baa9-453a-afe8-1e4f28d57591"
      },
      "execution_count": null,
      "outputs": [
        {
          "output_type": "stream",
          "name": "stdout",
          "text": [
            "[[3 9 7]\n",
            " [5 6 2]]\n",
            "(2, 3)\n"
          ]
        }
      ]
    },
    {
      "cell_type": "code",
      "source": [
        "# other way to find transpose\n",
        "trans2 = array.T\n",
        "print(trans2)\n",
        "print(trans2.shape)"
      ],
      "metadata": {
        "colab": {
          "base_uri": "https://localhost:8080/"
        },
        "id": "M7pKUAtmAOZ9",
        "outputId": "227c3737-639a-4b3c-be3a-ba6cd880be72"
      },
      "execution_count": null,
      "outputs": [
        {
          "output_type": "stream",
          "name": "stdout",
          "text": [
            "[[3 9 7]\n",
            " [5 6 2]]\n",
            "(2, 3)\n"
          ]
        }
      ]
    },
    {
      "cell_type": "code",
      "source": [
        "# reshaping the array\n",
        "\n",
        "a = np.random.randint(0,10,(2,3))\n",
        "print(a)\n",
        "print(a.shape)"
      ],
      "metadata": {
        "colab": {
          "base_uri": "https://localhost:8080/"
        },
        "id": "K1cCtwWgBN2j",
        "outputId": "ee61b6d3-6d7d-402f-a763-dcf001e1aca9"
      },
      "execution_count": null,
      "outputs": [
        {
          "output_type": "stream",
          "name": "stdout",
          "text": [
            "[[4 6 0]\n",
            " [1 7 2]]\n",
            "(2, 3)\n"
          ]
        }
      ]
    },
    {
      "cell_type": "code",
      "source": [
        "b = a.reshape(3,2)\n",
        "print(b)\n",
        "print(b.shape)"
      ],
      "metadata": {
        "colab": {
          "base_uri": "https://localhost:8080/"
        },
        "id": "aIdAOHryBi-1",
        "outputId": "8a5f47c5-864e-42d9-a285-1779ea0af256"
      },
      "execution_count": null,
      "outputs": [
        {
          "output_type": "stream",
          "name": "stdout",
          "text": [
            "[[4 6]\n",
            " [0 1]\n",
            " [7 2]]\n",
            "(3, 2)\n"
          ]
        }
      ]
    },
    {
      "cell_type": "code",
      "source": [],
      "metadata": {
        "id": "sBEeU_TuBpew"
      },
      "execution_count": null,
      "outputs": []
    }
  ]
}